{
 "cells": [
  {
   "cell_type": "markdown",
   "metadata": {
    "collapsed": true
   },
   "source": [
    "# Get Flashcards\n"
   ]
  },
  {
   "cell_type": "code",
   "execution_count": null,
   "metadata": {},
   "outputs": [],
   "source": [
    "# !pip install tweepy wget python-dotenv"
   ]
  },
  {
   "cell_type": "code",
   "execution_count": 1,
   "metadata": {},
   "outputs": [],
   "source": [
    "import tweepy \n",
    "import wget\n",
    "import os\n",
    "import dotenv"
   ]
  },
  {
   "cell_type": "code",
   "execution_count": 11,
   "metadata": {},
   "outputs": [
    {
     "data": {
      "text/plain": [
       "True"
      ]
     },
     "execution_count": 11,
     "metadata": {},
     "output_type": "execute_result"
    }
   ],
   "source": [
    "dotenv.load_dotenv(override=True)"
   ]
  },
  {
   "cell_type": "code",
   "execution_count": 12,
   "metadata": {},
   "outputs": [],
   "source": [
    "# https://apps.twitter.com/\n",
    "auth = tweepy.OAuthHandler(os.environ['consumer_key'], os.environ['consumer_secret'])\n",
    "auth.set_access_token(os.environ['access_token'], os.environ['access_token_secret'])"
   ]
  },
  {
   "cell_type": "code",
   "execution_count": 14,
   "metadata": {},
   "outputs": [],
   "source": [
    "api = tweepy.API(auth)"
   ]
  },
  {
   "cell_type": "code",
   "execution_count": null,
   "metadata": {},
   "outputs": [],
   "source": [
    "#Get 200 of Chris' tweet\n",
    "tweets = api.user_timeline(screen_name = 'chrisalbon', \n",
    "                           count = 300, \n",
    "                           include_rts = False, \n",
    "                           excludereplies = True)\n",
    "\n",
    "#200 isn't enough.  Keep getting tweets until we can't get anymore"
   ]
  },
  {
   "cell_type": "code",
   "execution_count": 16,
   "metadata": {},
   "outputs": [
    {
     "data": {
      "text/plain": [
       "921642564976914432"
      ]
     },
     "execution_count": 16,
     "metadata": {},
     "output_type": "execute_result"
    }
   ],
   "source": [
    "last_id = tweets[-1].id\n",
    "last_id"
   ]
  },
  {
   "cell_type": "code",
   "execution_count": 89,
   "metadata": {
    "collapsed": true
   },
   "outputs": [],
   "source": [
    "while (True):\n",
    "    more_tweets = api.user_timeline(screen_name='chrisalbon',\n",
    "                                    count=200,\n",
    "                                    include_rts=False,\n",
    "                                    exclude_replies=True,\n",
    "                                    max_id=last_id-1)\n",
    "\n",
    "    # There are no more tweets\n",
    "    if (len(more_tweets) == 0):\n",
    "        break\n",
    "    else:\n",
    "        last_id = more_tweets[-1].id-1\n",
    "        tweets = tweets + more_tweets"
   ]
  },
  {
   "cell_type": "code",
   "execution_count": 92,
   "metadata": {
    "scrolled": true
   },
   "outputs": [
    {
     "data": {
      "text/plain": [
       "[[{'indices': [81, 112], 'text': 'IJustWantOneKetchupYouMonsters'}],\n",
       " [{'indices': [52, 59], 'text': 'Friday'}],\n",
       " [{'indices': [39, 50], 'text': 'blockchain'},\n",
       "  {'indices': [55, 68], 'text': 'deeplearning'}],\n",
       " [{'indices': [88, 95], 'text': 'random'}],\n",
       " [{'indices': [85, 97], 'text': 'gamechanger'}],\n",
       " [{'indices': [33, 52], 'text': 'notasponsoredtweet'}],\n",
       " [{'indices': [56, 63], 'text': 'devart'}],\n",
       " [{'indices': [0, 13], 'text': 'UntitledLife'}],\n",
       " [{'indices': [0, 9], 'text': 'TeamIris'}],\n",
       " [{'indices': [41, 48], 'text': 'Python'}],\n",
       " [{'indices': [34, 42], 'text': 'bigdata'},\n",
       "  {'indices': [43, 46], 'text': 'ai'},\n",
       "  {'indices': [47, 60], 'text': 'deeplearning'}],\n",
       " [{'indices': [0, 7], 'text': 'Devart'}],\n",
       " [{'indices': [4, 11], 'text': 'devart'}],\n",
       " [{'indices': [29, 36], 'text': 'DevArt'}],\n",
       " [{'indices': [117, 133], 'text': 'datasciencelife'}],\n",
       " [{'indices': [15, 27], 'text': 'NairobiTime'}],\n",
       " [{'indices': [0, 11], 'text': 'OccupyCUDA'}],\n",
       " [{'indices': [13, 20], 'text': 'devart'}],\n",
       " [{'indices': [23, 30], 'text': 'devart'}],\n",
       " [{'indices': [12, 19], 'text': 'devart'}],\n",
       " [{'indices': [19, 34], 'text': 'LiveAllNighter'}],\n",
       " [{'indices': [0, 11], 'text': 'RipDashCon'}],\n",
       " [{'indices': [0, 7], 'text': 'devart'}],\n",
       " [{'indices': [0, 9], 'text': 'NIPS2018'}],\n",
       " [{'indices': [48, 66], 'text': 'Cooonnnvoooooyyyy'}],\n",
       " [{'indices': [12, 31], 'text': 'deeplearningpantry'}],\n",
       " [{'indices': [0, 19], 'text': 'DeepLearningPantry'}],\n",
       " [{'indices': [0, 11], 'text': 'SquadGoals'}],\n",
       " [{'indices': [0, 23], 'text': 'JarJarBinksIsASithLord'}],\n",
       " [{'indices': [0, 11], 'text': 'internship'}],\n",
       " [{'indices': [30, 38], 'text': 'uruguay'}],\n",
       " [{'indices': [31, 38], 'text': 'devart'}],\n",
       " [{'indices': [28, 40], 'text': 'BuenosAires'}],\n",
       " [{'indices': [78, 94], 'text': 'MomentOfHonesty'}],\n",
       " [{'indices': [47, 62], 'text': 'WeAreOnePeople'}],\n",
       " [{'indices': [59, 70], 'text': 'technology'}],\n",
       " [{'indices': [0, 22], 'text': 'FollowHogwartsScience'},\n",
       "  {'indices': [23, 36], 'text': 'BuyTheTShirt'}],\n",
       " [{'indices': [0, 14], 'text': 'ResistTheBlue'}],\n",
       " [{'indices': [93, 102], 'text': 'AlisonWo'}],\n",
       " [{'indices': [44, 56], 'text': 'minerRights'},\n",
       "  {'indices': [57, 67], 'text': 'BloodJSON'}],\n",
       " [{'indices': [0, 10], 'text': 'TheCricle'}],\n",
       " [{'indices': [117, 131], 'text': 'PowerOfBrands'}],\n",
       " [{'indices': [10, 26], 'text': 'IllSeeMyselfOut'}],\n",
       " [{'indices': [46, 57], 'text': 'BrazenBrag'}],\n",
       " [{'indices': [0, 14], 'text': 'BayesiansLive'}],\n",
       " [{'indices': [0, 14], 'text': 'Crosstab4Life'}]]"
      ]
     },
     "execution_count": 92,
     "metadata": {},
     "output_type": "execute_result"
    }
   ],
   "source": [
    "[s.entities.get('hashtags') for s in tweets if s.entities.get('hashtags')]"
   ]
  },
  {
   "cell_type": "code",
   "execution_count": null,
   "metadata": {
    "collapsed": true
   },
   "outputs": [],
   "source": [
    "# Filter by those containing #machinelearningflashcards\n",
    "# card_tweets = [s for s in tweets if 'https://t.co/eZ2bbpDzwV' in s.text]\n",
    "\n",
    "def filter_card(s):\n",
    "    urls = s.entities.get('urls')\n",
    "    if urls:\n",
    "        return(urls[0].get('display_url') == 'machinelearningflashcards.com')\n",
    "    else:\n",
    "        return False\n",
    "card_tweets = [s for s in tweets if filter_card(s)]"
   ]
  },
  {
   "cell_type": "code",
   "execution_count": 68,
   "metadata": {},
   "outputs": [
    {
     "data": {
      "text/plain": [
       "'Notions Of Probability'"
      ]
     },
     "execution_count": 68,
     "metadata": {},
     "output_type": "execute_result"
    }
   ],
   "source": [
    "# s = card_tweets[0]\n",
    "# s.text.split(' http')[0]"
   ]
  },
  {
   "cell_type": "code",
   "execution_count": 87,
   "metadata": {
    "collapsed": true
   },
   "outputs": [],
   "source": [
    "media_files = dict()\n",
    "for status in card_tweets:\n",
    "    title = status.text.split(' http')[0]\n",
    "    media = status.entities.get('media', [])\n",
    "    if(len(media) > 0 and media[0]['type']=='photo' ):  #if tweet has media and media is photo\n",
    "        media_files[title] = media[0]['media_url']  #get me the url"
   ]
  },
  {
   "cell_type": "code",
   "execution_count": 88,
   "metadata": {},
   "outputs": [
    {
     "data": {
      "text/plain": [
       "140"
      ]
     },
     "execution_count": 88,
     "metadata": {},
     "output_type": "execute_result"
    }
   ],
   "source": [
    "len(media_files)"
   ]
  },
  {
   "cell_type": "code",
   "execution_count": 82,
   "metadata": {
    "collapsed": true
   },
   "outputs": [],
   "source": [
    "os.makedirs('ml-cards', exist_ok=True) # make a directory to store the photos in\n",
    "\n",
    "for k, v in media_files.items():\n",
    "    wget.download(v, out = f'ml-cards/{k}.png') #get the photos!"
   ]
  },
  {
   "cell_type": "code",
   "execution_count": null,
   "metadata": {
    "collapsed": true
   },
   "outputs": [],
   "source": []
  }
 ],
 "metadata": {
  "kernelspec": {
   "display_name": "Python 3",
   "language": "python",
   "name": "python3"
  },
  "language_info": {
   "codemirror_mode": {
    "name": "ipython",
    "version": 3
   },
   "file_extension": ".py",
   "mimetype": "text/x-python",
   "name": "python",
   "nbconvert_exporter": "python",
   "pygments_lexer": "ipython3",
   "version": "3.6.5"
  }
 },
 "nbformat": 4,
 "nbformat_minor": 2
}
