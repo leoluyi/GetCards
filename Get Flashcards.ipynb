{
 "cells": [
  {
   "cell_type": "markdown",
   "metadata": {
    "collapsed": true
   },
   "source": [
    "# Get Flashcards\n"
   ]
  },
  {
   "cell_type": "code",
   "execution_count": null,
   "metadata": {},
   "outputs": [],
   "source": [
    "# !pip install tweepy wget python-dotenv"
   ]
  },
  {
   "cell_type": "code",
   "execution_count": 1,
   "metadata": {},
   "outputs": [],
   "source": [
    "import tweepy \n",
    "import wget\n",
    "import os\n",
    "import dotenv"
   ]
  },
  {
   "cell_type": "code",
   "execution_count": 11,
   "metadata": {},
   "outputs": [
    {
     "data": {
      "text/plain": [
       "True"
      ]
     },
     "execution_count": 11,
     "metadata": {},
     "output_type": "execute_result"
    }
   ],
   "source": [
    "dotenv.load_dotenv(override=True)"
   ]
  },
  {
   "cell_type": "code",
   "execution_count": 12,
   "metadata": {},
   "outputs": [],
   "source": [
    "# https://apps.twitter.com/\n",
    "auth = tweepy.OAuthHandler(os.environ['consumer_key'], os.environ['consumer_secret'])\n",
    "auth.set_access_token(os.environ['access_token'], os.environ['access_token_secret'])"
   ]
  },
  {
   "cell_type": "code",
   "execution_count": 14,
   "metadata": {},
   "outputs": [],
   "source": [
    "api = tweepy.API(auth)"
   ]
  },
  {
   "cell_type": "code",
   "execution_count": 37,
   "metadata": {},
   "outputs": [],
   "source": [
    "#Get 200 of Chris' tweet\n",
    "tweets = api.user_timeline(\n",
    "    screen_name = 'chrisalbon', \n",
    "    count = 300, \n",
    "    include_rts = False, \n",
    "    excludereplies = True\n",
    ")\n",
    "\n",
    "#200 isn't enough.  Keep getting tweets until we can't get anymore"
   ]
  },
  {
   "cell_type": "code",
   "execution_count": 38,
   "metadata": {},
   "outputs": [
    {
     "data": {
      "text/plain": [
       "1066438696654659586"
      ]
     },
     "execution_count": 38,
     "metadata": {},
     "output_type": "execute_result"
    }
   ],
   "source": [
    "last_id = tweets[-1].id\n",
    "last_id"
   ]
  },
  {
   "cell_type": "code",
   "execution_count": 39,
   "metadata": {},
   "outputs": [
    {
     "name": "stdout",
     "output_type": "stream",
     "text": [
      "Num of tweets: 252\n"
     ]
    }
   ],
   "source": [
    "# Get more tweets: 300 tweets per loop\n",
    "while (True):\n",
    "    more_tweets = api.user_timeline(\n",
    "        screen_name='chrisalbon',\n",
    "        count=300,\n",
    "        include_rts=False,\n",
    "        exclude_replies=True,\n",
    "        max_id=last_id-1\n",
    "    )\n",
    "\n",
    "    # There are no more tweets\n",
    "    if (len(more_tweets) == 0):\n",
    "        break\n",
    "    else:\n",
    "        last_id = more_tweets[-1].id - 1\n",
    "        tweets = tweets + more_tweets\n",
    "        \n",
    "print(f'Num of tweets: {len(tweets)}')"
   ]
  },
  {
   "cell_type": "code",
   "execution_count": 40,
   "metadata": {
    "scrolled": true
   },
   "outputs": [
    {
     "data": {
      "text/plain": [
       "[[{'text': 'devart', 'indices': [15, 22]}],\n",
       " [{'text': 'Forever', 'indices': [10, 18]}],\n",
       " [{'text': 'passion', 'indices': [85, 93]},\n",
       "  {'text': 'honesty', 'indices': [94, 102]},\n",
       "  {'text': 'lifestyle', 'indices': [103, 113]}],\n",
       " [{'text': 'NoYourCrying', 'indices': [101, 114]}]]"
      ]
     },
     "execution_count": 40,
     "metadata": {},
     "output_type": "execute_result"
    }
   ],
   "source": [
    "# Check hashtags\n",
    "[s.entities.get('hashtags') for s in tweets if s.entities.get('hashtags')]"
   ]
  },
  {
   "cell_type": "code",
   "execution_count": 41,
   "metadata": {},
   "outputs": [
    {
     "data": {
      "text/plain": [
       "22"
      ]
     },
     "execution_count": 41,
     "metadata": {},
     "output_type": "execute_result"
    }
   ],
   "source": [
    "# Filter by those containing #machinelearningflashcards\n",
    "# card_tweets = [s for s in tweets if 'https://t.co/eZ2bbpDzwV' in s.text]\n",
    "\n",
    "def filter_card(s):\n",
    "    urls = s.entities.get('urls')\n",
    "    if urls:\n",
    "        return(urls[0].get('display_url') == 'machinelearningflashcards.com')\n",
    "    else:\n",
    "        return False\n",
    "card_tweets = list(filter(filter_card, tweets))\n",
    "len(card_tweets)"
   ]
  },
  {
   "cell_type": "code",
   "execution_count": 27,
   "metadata": {},
   "outputs": [],
   "source": [
    "# s = card_tweets[0]\n",
    "# s.text.split(' http')[0]"
   ]
  },
  {
   "cell_type": "code",
   "execution_count": 42,
   "metadata": {},
   "outputs": [],
   "source": [
    "media_files = dict()\n",
    "for status in card_tweets:\n",
    "    title = status.text.split(' http')[0]\n",
    "    media = status.entities.get('media', [])\n",
    "    if(len(media) > 0 and media[0]['type']=='photo' ):  #if tweet has media and media is photo\n",
    "        media_files[title] = media[0]['media_url']  #get me the url"
   ]
  },
  {
   "cell_type": "code",
   "execution_count": 43,
   "metadata": {},
   "outputs": [
    {
     "data": {
      "text/plain": [
       "21"
      ]
     },
     "execution_count": 43,
     "metadata": {},
     "output_type": "execute_result"
    }
   ],
   "source": [
    "len(media_files)"
   ]
  },
  {
   "cell_type": "code",
   "execution_count": 44,
   "metadata": {},
   "outputs": [
    {
     "data": {
      "text/plain": [
       "{'Linear Discriminant Analysis For Dimensionality Reduction': 'http://pbs.twimg.com/media/Dt1S6GlVYAAb870.png',\n",
       " 'How To Choose Hidden Unit Activation Functions': 'http://pbs.twimg.com/media/DtwMEaVU4AAX6-T.png',\n",
       " 'Parameter Sharing': 'http://pbs.twimg.com/media/DtrFRatU8AArdJD.png',\n",
       " 'Learning Rate': 'http://pbs.twimg.com/media/Dtl93DLU0AAJTH3.png',\n",
       " 'Silhouette Coefficients': 'http://pbs.twimg.com/media/DtgukjFU4AAlwkQ.png',\n",
       " 'Consistency': 'http://pbs.twimg.com/media/DtRVRYuVsAAw1xh.png',\n",
       " 'Receiver Operating Characteristic': 'http://pbs.twimg.com/media/DtMFtz4UwAA0uKX.png',\n",
       " 'Occams Razor': 'http://pbs.twimg.com/media/DtG8h-DUcAAI9vw.png',\n",
       " 'Out-Of-Core': 'http://pbs.twimg.com/media/DtB0xATUUAALGnB.png',\n",
       " 'Power Rule': 'http://pbs.twimg.com/media/Ds8m5-bU8AAfdDd.png',\n",
       " 'Architecture Of A Neural Network': 'http://pbs.twimg.com/media/DrlMIGDU0AEWsRR.png',\n",
       " 'Bagging Vs Dropout': 'http://pbs.twimg.com/media/DsoLeFbWwAEDPuG.png',\n",
       " 'Feature Importance': 'http://pbs.twimg.com/media/Dsi83YVUUAEmNlq.png',\n",
       " 'Minimum Of A Loss Function': 'http://pbs.twimg.com/media/DsdwINuVsAAiksm.png',\n",
       " 'Interquartile Range': 'http://pbs.twimg.com/media/DsYmqM5VAAAuG5h.png',\n",
       " 'TF-IDF': 'http://pbs.twimg.com/media/DsJPZvzUUAAgSLt.png',\n",
       " 'Generalization': 'http://pbs.twimg.com/media/DsD-OKFVAAAXWjS.png',\n",
       " 'The Effect Of Feature Scaling On Gradient Descent': 'http://pbs.twimg.com/media/Dr-6TdqVsAAvS9K.png',\n",
       " 'Model Selection': 'http://pbs.twimg.com/media/Dr5qgmEUUAAWh5b.png',\n",
       " 'Natural Log': 'http://pbs.twimg.com/media/Dr0iO85U8AAhNBe.png',\n",
       " 'Sources Of Uncertainty': 'http://pbs.twimg.com/media/Drf-YyiVAAAfLP1.png'}"
      ]
     },
     "execution_count": 44,
     "metadata": {},
     "output_type": "execute_result"
    }
   ],
   "source": [
    "media_files"
   ]
  },
  {
   "cell_type": "markdown",
   "metadata": {},
   "source": [
    "## Write img to files"
   ]
  },
  {
   "cell_type": "code",
   "execution_count": 46,
   "metadata": {},
   "outputs": [],
   "source": [
    "os.makedirs('ml-cards', exist_ok=True) # make a directory to store the photos in\n",
    "\n",
    "for k, v in media_files.items():\n",
    "    if not os.path.exists(f'ml-cards/{k}.png'):\n",
    "        wget.download(v, out = f'ml-cards/{k}.png') # get the photos!"
   ]
  },
  {
   "cell_type": "code",
   "execution_count": null,
   "metadata": {},
   "outputs": [],
   "source": []
  }
 ],
 "metadata": {
  "kernelspec": {
   "display_name": "Python 3",
   "language": "python",
   "name": "python3"
  },
  "language_info": {
   "codemirror_mode": {
    "name": "ipython",
    "version": 3
   },
   "file_extension": ".py",
   "mimetype": "text/x-python",
   "name": "python",
   "nbconvert_exporter": "python",
   "pygments_lexer": "ipython3",
   "version": "3.6.5"
  }
 },
 "nbformat": 4,
 "nbformat_minor": 2
}
